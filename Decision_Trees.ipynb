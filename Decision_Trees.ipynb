{
 "cells": [
  {
   "cell_type": "code",
   "execution_count": null,
   "id": "ad1d297a",
   "metadata": {},
   "outputs": [
    {
     "name": "stdout",
     "output_type": "stream",
     "text": [
      "Bagged Trees Development Accuracy: 0.8060\n",
      "Random Forest Development Accuracy: 0.8134\n"
     ]
    },
    {
     "data": {
      "image/png": "[encoded data removed]",
      "text/plain": [
       "<Figure size 1000x600 with 1 Axes>"
      ]
     },
     "metadata": {},
     "output_type": "display_data"
    },
    {
     "name": "stdout",
     "output_type": "stream",
     "text": [
      "Boosted Trees Development Accuracy: 0.8284\n",
      "Best Random Forest Model - n_estimators: 50, max_depth: 5, Accuracy: 0.8209\n",
      "Test Accuracy of Best Random Forest Model: 0.7687\n",
      "\n",
      "Summary of Findings:\n",
      "- Bagged Trees Development Accuracy: 0.8060\n",
      "- Random Forest Development Accuracy: 0.8134\n",
      "- Boosted Trees Development Accuracy: 0.8284\n",
      "- Best Model: Random Forest with n_estimators=50 and max_depth=5\n",
      "- Test Accuracy of Best Model: 0.7687\n"
     ]
    }
   ],
   "source": [
    "# Decision Tree Analysis on Titanic Dataset\n",
    "\n",
    "# 1. Introduction and Objective\n",
    "# In this notebook, we will create a Decision Tree model to predict the survival of passengers on the Titanic. \n",
    "# We will explore the data, preprocess it, train various tree-based models (Bagged, Random Forest, Boosted), and evaluate their performance.\n",
    "\n",
    "# 2. Data Preparation\n",
    "\n",
    "## Importing Libraries\n",
    "import pandas as pd\n",
    "import numpy as np\n",
    "import matplotlib.pyplot as plt\n",
    "import seaborn as sns\n",
    "from sklearn.model_selection import train_test_split\n",
    "from sklearn.tree import DecisionTreeClassifier, plot_tree\n",
    "from sklearn.metrics import accuracy_score\n",
    "from sklearn.ensemble import BaggingClassifier, RandomForestClassifier, GradientBoostingClassifier\n",
    "\n",
    "# Loading the dataset.\n",
    "data = pd.read_csv('downloads/titanic.csv')\n",
    "\n",
    "# Displaying the first few rows of the dataset.\n",
    "data.head()\n",
    "\n",
    "# Check for missing values.\n",
    "data.isnull().sum()\n",
    "\n",
    "# Data Preprocessing - Handle missing values and encode categorical variables.\n",
    "data['Age'] = data['Age'].fillna(data['Age'].median())\n",
    "data['Embarked'] = data['Embarked'].fillna(data['Embarked'].mode()[0])\n",
    "\n",
    "# Encoding categorical variables.\n",
    "data['Sex'] = data['Sex'].map({'male': 0, 'female': 1})\n",
    "data = pd.get_dummies(data, columns=['Embarked'], drop_first=True)\n",
    "\n",
    "# Feature selection.\n",
    "X = data[['Pclass', 'Sex', 'Age', 'SibSp', 'Parch', 'Fare', 'Embarked_Q', 'Embarked_S']]\n",
    "y = data['Survived']\n",
    "\n",
    "# Splitting data into training, development, and test sets.\n",
    "X_train, X_temp, y_train, y_temp = train_test_split(X, y, test_size=0.3, random_state=42)\n",
    "X_dev, X_test, y_dev, y_test = train_test_split(X_temp, y_temp, test_size=0.5, random_state=42)\n",
    "\n",
    "# 3. Bagged Trees Model.\n",
    "bagging_model = BaggingClassifier(estimator=DecisionTreeClassifier(), n_estimators=50, random_state=42)\n",
    "bagging_model.fit(X_train, y_train)\n",
    "bagging_dev_accuracy = accuracy_score(y_dev, bagging_model.predict(X_dev))\n",
    "print(f\"Bagged Trees Development Accuracy: {bagging_dev_accuracy:.4f}\")\n",
    "\n",
    "# 4. Random Forest Model.\n",
    "rf_model = RandomForestClassifier(n_estimators=100, random_state=42)\n",
    "rf_model.fit(X_train, y_train)\n",
    "rf_dev_accuracy = accuracy_score(y_dev, rf_model.predict(X_dev))\n",
    "print(f\"Random Forest Development Accuracy: {rf_dev_accuracy:.4f}\")\n",
    "\n",
    "# Feature Importance Analysis.\n",
    "importances = rf_model.feature_importances_\n",
    "features = X.columns\n",
    "plt.figure(figsize=(10, 6))\n",
    "plt.barh(features, importances)\n",
    "plt.title('Feature Importance - Random Forest')\n",
    "plt.xlabel('Importance Score')\n",
    "plt.show()\n",
    "\n",
    "# 5. Boosted Trees Model.\n",
    "boosting_model = GradientBoostingClassifier(n_estimators=100, random_state=42)\n",
    "boosting_model.fit(X_train, y_train)\n",
    "boosting_dev_accuracy = accuracy_score(y_dev, boosting_model.predict(X_dev))\n",
    "print(f\"Boosted Trees Development Accuracy: {boosting_dev_accuracy:.4f}\")\n",
    "\n",
    "# 6. Hyperparameter Tuning.\n",
    "best_accuracy = 0\n",
    "best_params = {}\n",
    "for n in [50, 100, 150]:\n",
    "    for depth in [3, 5, 7]:\n",
    "        model = RandomForestClassifier(n_estimators=n, max_depth=depth, random_state=42)\n",
    "        model.fit(X_train, y_train)\n",
    "        dev_acc = accuracy_score(y_dev, model.predict(X_dev))\n",
    "        if dev_acc > best_accuracy:\n",
    "            best_accuracy = dev_acc\n",
    "            best_params = {'n_estimators': n, 'max_depth': depth}\n",
    "\n",
    "print(f\"Best Random Forest Model - n_estimators: {best_params['n_estimators']}, max_depth: {best_params['max_depth']}, Accuracy: {best_accuracy:.4f}\")\n",
    "\n",
    "# 7. Final Model Evaluation.\n",
    "final_rf = RandomForestClassifier(n_estimators=best_params['n_estimators'], max_depth=best_params['max_depth'], random_state=42)\n",
    "final_rf.fit(X_train, y_train)\n",
    "test_accuracy = accuracy_score(y_test, final_rf.predict(X_test))\n",
    "print(f\"Test Accuracy of Best Random Forest Model: {test_accuracy:.4f}\")\n",
    "\n",
    "# 8. Summary of Findings\n",
    "print(\"\\nSummary of Findings:\")\n",
    "print(f\"- Bagged Trees Development Accuracy: {bagging_dev_accuracy:.4f}\")\n",
    "print(f\"- Random Forest Development Accuracy: {rf_dev_accuracy:.4f}\")\n",
    "print(f\"- Boosted Trees Development Accuracy: {boosting_dev_accuracy:.4f}\")\n",
    "print(f\"- Best Model: Random Forest with n_estimators={best_params['n_estimators']} and max_depth={best_params['max_depth']}\")\n",
    "print(f\"- Test Accuracy of Best Model: {test_accuracy:.4f}\")\n",
    "\n"
   ]
  }
 ],
 "metadata": {
  "kernelspec": {
   "display_name": "Python 3",
   "language": "python",
   "name": "python3"
  },
  "language_info": {
   "codemirror_mode": {
    "name": "ipython",
    "version": 3
   },
   "file_extension": ".py",
   "mimetype": "text/x-python",
   "name": "python",
   "nbconvert_exporter": "python",
   "pygments_lexer": "ipython3",
   "version": "3.13.1"
  }
 },
 "nbformat": 4,
 "nbformat_minor": 5
}
